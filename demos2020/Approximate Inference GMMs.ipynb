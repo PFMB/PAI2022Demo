{
 "cells": [
  {
   "cell_type": "code",
   "execution_count": null,
   "metadata": {
    "ExecuteTime": {
     "end_time": "2020-09-07T08:10:58.805277Z",
     "start_time": "2020-09-07T08:10:57.661384Z"
    }
   },
   "outputs": [],
   "source": [
    "import numpy as np \n",
    "import scipy.stats as stats\n",
    "import matplotlib.pyplot as plt \n",
    "from matplotlib import rcParams\n",
    "import pandas as pd \n",
    "import seaborn as sns\n",
    "from tqdm.notebook import tqdm\n",
    "\n",
    "import ipywidgets\n",
    "from ipywidgets import interact\n",
    "import IPython\n",
    "# If in your browser the figures are not nicely vizualized, change the following line. \n",
    "rcParams['font.size'] = 12\n",
    "\n",
    "import warnings\n",
    "warnings.filterwarnings('ignore')\n",
    "\n",
    "import pyro.optim \n",
    "from pyro.infer import Predictive, SVI, Trace_ELBO, HMC, MCMC, NUTS, TraceEnum_ELBO, config_enumerate, infer_discrete\n",
    "from pyro.infer.autoguide import AutoDelta, AutoDiagonalNormal\n",
    "import pyro.distributions as dist\n",
    "\n",
    "import torch \n",
    "from torch import nn\n",
    "from torch.distributions import MultivariateNormal, constraints\n",
    "\n",
    "\n",
    "prior_c, svi_c, mcmc_c = sns.color_palette()[:3]"
   ]
  },
  {
   "cell_type": "markdown",
   "metadata": {},
   "source": [
    "# Gaussian Mixture Model\n",
    "From https://pyro.ai/examples/gmm.html"
   ]
  },
  {
   "cell_type": "code",
   "execution_count": null,
   "metadata": {
    "ExecuteTime": {
     "end_time": "2020-09-07T08:10:58.832781Z",
     "start_time": "2020-09-07T08:10:58.825848Z"
    }
   },
   "outputs": [],
   "source": [
    "K = 2  # Fixed number of components.\n",
    "@config_enumerate\n",
    "def model(data):\n",
    "    # Global variables.\n",
    "    weights = pyro.sample('weights', dist.Dirichlet(0.5 * torch.ones(K)))\n",
    "    scale = pyro.sample('scale', dist.LogNormal(0., 2.))\n",
    "    with pyro.plate('components', K):\n",
    "        locs = pyro.sample('locs', dist.Normal(0., 10.))\n",
    "\n",
    "    with pyro.plate('data', len(x)):\n",
    "        # Local variables.\n",
    "        assignment = pyro.sample('assignment', dist.Categorical(weights))\n",
    "        pyro.sample('obs', dist.Normal(locs[assignment], scale), obs=x)\n",
    "\n",
    "def summary(samples):\n",
    "    site_stats = {}\n",
    "    for site_name, values in samples.items():\n",
    "        marginal_site = pd.DataFrame(values)\n",
    "        describe = marginal_site.describe(percentiles=[.05, 0.25, 0.5, 0.75, 0.95]).transpose()\n",
    "        site_stats[site_name] = describe[[\"mean\", \"std\", \"5%\", \"25%\", \"50%\", \"75%\", \"95%\"]]\n",
    "    return site_stats\n"
   ]
  },
  {
   "cell_type": "code",
   "execution_count": null,
   "metadata": {
    "ExecuteTime": {
     "end_time": "2020-09-07T08:10:59.710504Z",
     "start_time": "2020-09-07T08:10:59.360780Z"
    }
   },
   "outputs": [],
   "source": [
    "x = torch.tensor([0., 1., 10., 11., 12.])\n",
    "\n",
    "test_x = torch.linspace(-5, 25, 1000)\n",
    "\n",
    "# Prior samples\n",
    "num_samples = 100\n",
    "# print(prior_predictive(x))\n",
    "prior_predictive = Predictive(model, {}, num_samples=num_samples)(test_x)\n",
    "\n",
    "weights = prior_predictive['weights'].mean(0)[0]\n",
    "locs = prior_predictive['locs'].mean(0)\n",
    "scale = prior_predictive['scale'].mean(0)\n",
    "print('weights = {}'.format(weights.data.numpy()))\n",
    "print('locs = {}'.format(locs.data.numpy()))\n",
    "print('scale = {}'.format(scale.data.numpy()))\n",
    "\n",
    "\n",
    "with torch.no_grad():\n",
    "    plt.figure(figsize=(10, 4), dpi=100).set_facecolor('white')\n",
    "\n",
    "    Y1 = stats.norm.pdf((test_x - locs[0].item()) / scale.item())\n",
    "    Y2 = stats.norm.pdf((test_x - locs[1].item()) / scale.item())\n",
    "    Y = weights[0].item() * Y1 + weights[1].item() * Y2\n",
    "\n",
    "    plt.plot(test_x, Y1, 'r-', label='First Component')\n",
    "    plt.plot(test_x, Y2, 'b-', label='Second Component')\n",
    "    plt.plot(test_x, Y, 'k--', label='Mixutre Model')\n",
    "    plt.plot(x.numpy(), np.zeros(len(x)), 'k*')\n",
    "    plt.legend(loc='best')\n",
    "    plt.title('Prior mixture model')\n",
    "    plt.ylabel('probability density');\n"
   ]
  },
  {
   "cell_type": "markdown",
   "metadata": {},
   "source": [
    "## SVI"
   ]
  },
  {
   "cell_type": "code",
   "execution_count": null,
   "metadata": {
    "ExecuteTime": {
     "end_time": "2020-09-07T08:11:25.128451Z",
     "start_time": "2020-09-07T08:11:24.819610Z"
    }
   },
   "outputs": [],
   "source": [
    "# Initialization of SVI\n",
    "def init_loc_fn(site):\n",
    "    if site[\"name\"] == \"weights\": # Initialize weights to uniform.\n",
    "        return torch.ones(K) / K\n",
    "    if site[\"name\"] == \"scale\":  # Initialize the scale accordingly to uniform.\n",
    "        return (x.var() / 2).sqrt()\n",
    "    if site[\"name\"] == \"locs\":  # Initialize the locations by sampling u.a.r. from a multinomial.\n",
    "        return x[torch.multinomial(torch.ones(len(x)) / len(x), K)]\n",
    "    raise ValueError(site[\"name\"])\n",
    "\n",
    "def initialize(seed):\n",
    "    pyro.set_rng_seed(seed)\n",
    "    pyro.clear_param_store()\n",
    "    return AutoDiagonalNormal(pyro.poutine.block(model, expose=['weights', 'locs', 'scale']), init_loc_fn=init_loc_fn)\n",
    "\n",
    "guide = initialize(7)\n",
    "\n",
    "optim = pyro.optim.Adam({'lr': 0.01, 'betas': [0.8, 0.99]})\n",
    "elbo = TraceEnum_ELBO(max_plate_nesting=1)\n",
    "\n",
    "svi = SVI(model, guide, optim, loss=elbo)\n",
    "\n",
    "\n",
    "map_estimates = guide(x)\n",
    "weights = map_estimates['weights']\n",
    "locs = map_estimates['locs']\n",
    "scale = map_estimates['scale']\n",
    "print('weights = {}'.format(weights.data.numpy()))\n",
    "print('locs = {}'.format(locs.data.numpy()))\n",
    "print('scale = {}'.format(scale.data.numpy()))\n",
    "\n",
    "plt.figure(figsize=(10, 4), dpi=100).set_facecolor('white')\n",
    "\n",
    "X = np.arange(-10,25,0.1)\n",
    "Y1 = stats.norm.pdf((X - locs[0].item()) / scale.item())\n",
    "Y2 = stats.norm.pdf((X - locs[1].item()) / scale.item())\n",
    "Y = weights[0].item() * Y1 + weights[1].item() * Y2\n",
    "\n",
    "plt.plot(X, Y1, 'r-', label='First Component')\n",
    "plt.plot(X, Y2, 'b-', label='Second Component')\n",
    "plt.plot(X, Y, 'k--', label='Mixutre Model')\n",
    "plt.plot(x.numpy(), np.zeros(len(x)), 'k*')\n",
    "plt.legend(loc='best')\n",
    "plt.title('SVI Posterior at initialization')\n",
    "plt.ylabel('probability density');\n"
   ]
  },
  {
   "cell_type": "code",
   "execution_count": null,
   "metadata": {
    "ExecuteTime": {
     "end_time": "2020-07-08T16:09:17.907925Z",
     "start_time": "2020-07-08T16:09:16.225931Z"
    }
   },
   "outputs": [],
   "source": [
    "# Learning SVI\n",
    "losses = []\n",
    "for i in tqdm(range(200)):\n",
    "    loss = svi.step(x)\n",
    "    losses.append(loss)\n",
    "\n",
    "map_estimates = guide(x)\n",
    "weights = map_estimates['weights']\n",
    "locs = map_estimates['locs']\n",
    "scale = map_estimates['scale']\n",
    "print('weights = {}'.format(weights.data.numpy()))\n",
    "print('locs = {}'.format(locs.data.numpy()))\n",
    "print('scale = {}'.format(scale.data.numpy()))\n",
    "\n",
    "X = np.arange(-3,15,0.1)\n",
    "Y1 = stats.norm.pdf((X - locs[0].item()) / scale.item())\n",
    "Y2 = stats.norm.pdf((X - locs[1].item()) / scale.item())\n",
    "Y = weights[0].item() * Y1 + weights[1].item() * Y2\n",
    "\n",
    "plt.figure(figsize=(10, 4), dpi=100).set_facecolor('white')\n",
    "\n",
    "X = np.arange(-3,15,0.1)\n",
    "Y1 = stats.norm.pdf((X - locs[0].item()) / scale.item())\n",
    "Y2 = stats.norm.pdf((X - locs[1].item()) / scale.item())\n",
    "Y = weights[0].item() * Y1 + weights[1].item() * Y2\n",
    "\n",
    "plt.plot(X, Y1, 'r-', label='First Component')\n",
    "plt.plot(X, Y2, 'b-', label='Second Component')\n",
    "plt.plot(X, Y, 'k--', label='Mixutre Model')\n",
    "plt.plot(x.numpy(), np.zeros(len(x)), 'k*', label='Raw Data')\n",
    "plt.legend(loc='best')\n",
    "plt.title('Final SVI Model')\n",
    "plt.ylabel('probability density');"
   ]
  },
  {
   "cell_type": "code",
   "execution_count": null,
   "metadata": {
    "ExecuteTime": {
     "end_time": "2020-07-08T16:09:22.080118Z",
     "start_time": "2020-07-08T16:09:20.128214Z"
    }
   },
   "outputs": [],
   "source": [
    "@config_enumerate\n",
    "def full_guide(data):\n",
    "    # Global variables.\n",
    "    with pyro.poutine.block(hide_types=[\"param\"]):  # Keep our learned values of global parameters.\n",
    "        guide(data)\n",
    "\n",
    "    # Local variables.\n",
    "    with pyro.plate('data', len(data)):\n",
    "        assignment_probs = pyro.param('assignment_probs', torch.ones(len(data), K) / K,\n",
    "                                      constraint=constraints.unit_interval)\n",
    "        pyro.sample('assignment', dist.Categorical(assignment_probs))\n",
    "\n",
    "optim = pyro.optim.Adam({'lr': 0.2, 'betas': [0.8, 0.99]})\n",
    "elbo = TraceEnum_ELBO(max_plate_nesting=1)\n",
    "svi = SVI(model, full_guide, optim, loss=elbo)\n",
    "\n",
    "losses = []\n",
    "for i in range(200):\n",
    "    loss = svi.step(x)\n",
    "    losses.append(loss)\n",
    "\n",
    "plt.figure(figsize=(10,3), dpi=100).set_facecolor('white')\n",
    "plt.plot(losses)\n",
    "plt.xlabel('iters')\n",
    "plt.ylabel('loss')\n",
    "plt.yscale('log')\n",
    "plt.title('Convergence of SVI');\n",
    "plt.show()\n",
    "\n",
    "\n",
    "assignment_probs = pyro.param('assignment_probs')\n",
    "plt.figure(figsize=(10, 3), dpi=100).set_facecolor('white')\n",
    "plt.plot(x.numpy(), assignment_probs.data.numpy()[:, 0], 'ro',\n",
    "            label='component with mean {:0.2g}'.format(locs[0]))\n",
    "plt.plot(x.numpy(), assignment_probs.data.numpy()[:, 1], 'bo',\n",
    "            label='component with mean {:0.2g}'.format(locs[1]))\n",
    "plt.title('Mixture assignment probabilities')\n",
    "plt.xlabel('data value')\n",
    "plt.ylabel('assignment probability')\n",
    "plt.legend(loc='center')\n",
    "plt.show();"
   ]
  },
  {
   "cell_type": "markdown",
   "metadata": {},
   "source": [
    "## MCMC "
   ]
  },
  {
   "cell_type": "code",
   "execution_count": null,
   "metadata": {
    "ExecuteTime": {
     "end_time": "2020-07-08T16:09:42.853481Z",
     "start_time": "2020-07-08T16:09:26.855570Z"
    }
   },
   "outputs": [],
   "source": [
    "pyro.set_rng_seed(2)\n",
    "\n",
    "kernel = NUTS(model)\n",
    "# kernel = HMC(model)\n",
    "\n",
    "mcmc = MCMC(kernel, num_samples=20, warmup_steps=250)\n",
    "mcmc.run(x)\n",
    "posterior_samples = mcmc.get_samples()\n",
    "\n",
    "weights = posterior_samples[\"weights\"].mean(0)\n",
    "scale = posterior_samples[\"scale\"].mean()\n",
    "locs = posterior_samples[\"locs\"].mean(0)\n",
    "\n",
    "plt.figure(figsize=(10, 4), dpi=100).set_facecolor('white')\n",
    "\n",
    "X = np.arange(-3,15,0.1)\n",
    "Y1 = stats.norm.pdf((X - locs[0].item()) / scale.item())\n",
    "Y2 = stats.norm.pdf((X - locs[1].item()) / scale.item())\n",
    "Y = weights[0].item() * Y1 + weights[1].item() * Y2\n",
    "\n",
    "plt.plot(X, Y1, 'r-', label='First Component')\n",
    "plt.plot(X, Y2, 'b-', label='Second Component')\n",
    "plt.plot(X, Y, 'k--', label='Mixutre Model')\n",
    "plt.plot(x.numpy(), np.zeros(len(x)), 'k*', label='Raw Data')\n",
    "plt.legend(loc='best')\n",
    "plt.title('Final Density of two-component mixture model')\n",
    "plt.ylabel('probability density');\n",
    "\n",
    "X1, X2 = posterior_samples[\"locs\"].t()\n",
    "plt.figure(figsize=(8, 3), dpi=100).set_facecolor('white')\n",
    "plt.plot(X1.numpy(), color='red',  label='Loc of component 0')\n",
    "plt.plot(X2.numpy(), color='blue',  label='Loc of component 1')\n",
    "plt.xlabel('NUTS step')\n",
    "plt.ylabel('loc')\n",
    "plt.title('Trace plot of loc parameter during MCMC sampling')\n",
    "plt.tight_layout()\n",
    "plt.show()"
   ]
  },
  {
   "cell_type": "code",
   "execution_count": null,
   "metadata": {},
   "outputs": [],
   "source": []
  }
 ],
 "metadata": {
  "kernelspec": {
   "display_name": "Python 3",
   "language": "python",
   "name": "python3"
  },
  "language_info": {
   "codemirror_mode": {
    "name": "ipython",
    "version": 3
   },
   "file_extension": ".py",
   "mimetype": "text/x-python",
   "name": "python",
   "nbconvert_exporter": "python",
   "pygments_lexer": "ipython3",
   "version": "3.7.7"
  },
  "varInspector": {
   "cols": {
    "lenName": 16,
    "lenType": 16,
    "lenVar": 40
   },
   "kernels_config": {
    "python": {
     "delete_cmd_postfix": "",
     "delete_cmd_prefix": "del ",
     "library": "var_list.py",
     "varRefreshCmd": "print(var_dic_list())"
    },
    "r": {
     "delete_cmd_postfix": ") ",
     "delete_cmd_prefix": "rm(",
     "library": "var_list.r",
     "varRefreshCmd": "cat(var_dic_list()) "
    }
   },
   "types_to_exclude": [
    "module",
    "function",
    "builtin_function_or_method",
    "instance",
    "_Feature"
   ],
   "window_display": false
  }
 },
 "nbformat": 4,
 "nbformat_minor": 4
}
