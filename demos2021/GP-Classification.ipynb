{
 "cells": [
  {
   "cell_type": "code",
   "execution_count": null,
   "metadata": {
    "ExecuteTime": {
     "end_time": "2020-10-12T06:55:27.783839Z",
     "start_time": "2020-10-12T06:55:26.248961Z"
    },
    "collapsed": true,
    "scrolled": true
   },
   "outputs": [],
   "source": [
    "import pyro\n",
    "import pyro.contrib.gp as gp\n",
    "from pyro.contrib.autoguide import AutoLaplaceApproximation\n",
    "from pyro.infer import SVI, Trace_ELBO\n",
    "from pyro.optim import Adam\n",
    "import gpytorch\n",
    "import torch\n",
    "\n",
    "import warnings\n",
    "import numpy as np\n",
    "import matplotlib.pyplot as plt\n",
    "from matplotlib import rcParams\n",
    "import seaborn as sns\n",
    "\n",
    "import ipywidgets\n",
    "from ipywidgets import interact\n",
    "import IPython\n",
    "# If in your browser the figures are not nicely vizualized, change the following line.\n",
    "rcParams['font.size'] = 16\n",
    "rcParams['figure.figsize'] = (20, 8)\n",
    "\n",
    "warnings.filterwarnings('ignore')\n",
    "\n",
    "\n",
    "prior_c, svi_c, mcmc_c = sns.color_palette()[:3]\n",
    "COLORS = {'Prior': prior_c, 'SVI': svi_c, 'MCMC': mcmc_c}"
   ]
  },
  {
   "cell_type": "markdown",
   "metadata": {},
   "source": [
    "# Generate Data"
   ]
  },
  {
   "cell_type": "code",
   "execution_count": null,
   "metadata": {
    "ExecuteTime": {
     "end_time": "2020-10-12T06:55:28.131841Z",
     "start_time": "2020-10-12T06:55:27.815287Z"
    },
    "collapsed": true,
    "scrolled": true
   },
   "outputs": [],
   "source": [
    "torch.manual_seed(13)\n",
    "def true_f(x):\n",
    "    return torch.sign(torch.cos(x * (4 * np.pi))).add(1).div(2)\n",
    "num_samples = 1000\n",
    "num_train = 10\n",
    "num_test = 200\n",
    "\n",
    "train_x = torch.rand(num_train)\n",
    "train_y = true_f(train_x)\n",
    "\n",
    "test_x = torch.linspace(0, 1, num_test)\n",
    "test_y = true_f(test_x)\n",
    "plt.figure(figsize=(10, 4), dpi=100).set_facecolor('white')\n",
    "plt.plot(train_x, train_y, 'k*', label='Train Data')\n",
    "plt.plot(test_x, test_y, 'k-', label='True Function')\n",
    "plt.legend(loc='best')\n",
    "plt.xlabel('X')\n",
    "plt.ylabel('y')\n",
    "plt.show()"
   ]
  },
  {
   "cell_type": "code",
   "execution_count": null,
   "metadata": {
    "ExecuteTime": {
     "end_time": "2020-10-12T06:55:28.779834Z",
     "start_time": "2020-10-12T06:55:28.770398Z"
    },
    "collapsed": true,
    "scrolled": true
   },
   "outputs": [],
   "source": [
    "def get_predictions(gp, test_x):\n",
    "    with torch.no_grad():\n",
    "        gp.eval()\n",
    "        f_loc, f_var = gp(test_x, full_cov=False)\n",
    "        f_std = f_var.sqrt() \n",
    "        \n",
    "        mean = torch.sigmoid(f_loc)\n",
    "        pred_labels = 0.5 * torch.ones_like(f_loc)\n",
    "        pred_labels[mean >= 0.5 ] = 1\n",
    "        pred_labels[mean <= 0.5 ] = 0\n",
    "        \n",
    "        lower, upper = torch.sigmoid(f_loc - f_std), torch.sigmoid(f_loc + f_std)\n",
    "    return mean, lower, upper, pred_labels\n",
    "\n",
    "def plot_gpc(gp, train_x, train_y, test_x, test_y, color=\"b\", plot_true=True, ncol=2):\n",
    "    mean, lower, upper, pred_labels = get_predictions(gp, test_x)\n",
    "    if plot_true:\n",
    "        plt.plot(train_x.numpy(), train_y.numpy(), 'k*', label='Observed Data', markersize=16)\n",
    "        plt.plot(test_x, test_y, 'k-', label='True Function')\n",
    "\n",
    "    plt.plot(test_x.numpy(), pred_labels.numpy(), color, label='Prediction')\n",
    "    plt.plot(test_x.numpy(), mean.numpy(), color=color, linestyle=\"dashed\", label='Mean')\n",
    "    plt.fill_between(test_x.numpy(), lower.numpy(), upper.numpy(), color=color, alpha=0.1)\n",
    "    plt.xlim(0, 1)\n",
    "    plt.ylim([-0.1, 1.2])\n",
    "    plt.legend(loc='Best', ncol=ncol)\n",
    "\n",
    "def train_svi(gp, svi, num_steps):\n",
    "    gp.train()\n",
    "    for i in range(num_steps):\n",
    "        try:\n",
    "            svi.step()\n",
    "        except RuntimeError:\n",
    "            break"
   ]
  },
  {
   "cell_type": "markdown",
   "metadata": {},
   "source": [
    "# Laplace Approximation of GP-posterior"
   ]
  },
  {
   "cell_type": "code",
   "execution_count": null,
   "metadata": {
    "ExecuteTime": {
     "end_time": "2020-10-12T06:55:31.144745Z",
     "start_time": "2020-10-12T06:55:30.097000Z"
    },
    "collapsed": true,
    "scrolled": true
   },
   "outputs": [],
   "source": [
    "def get_laplace_approx(train_x, train_y):\n",
    "    gpc = gp.models.VariationalGP(\n",
    "            train_x,\n",
    "            train_y,\n",
    "            kernel=gp.kernels.RBF(input_dim=1, lengthscale=torch.tensor([0.1]), variance=torch.tensor([1.])),\n",
    "            mean_function=gpytorch.means.ConstantMean(),\n",
    "            likelihood=gp.likelihoods.Binary(),\n",
    "            whiten=True,\n",
    "            jitter=1e-1\n",
    "    )\n",
    "    delta_guide = AutoLaplaceApproximation(gpc.model)\n",
    "    svi = SVI(gpc.model, delta_guide, Adam({\"lr\": 1e-2}), loss=Trace_ELBO())\n",
    "    return gpc, svi \n",
    "\n",
    "def svi_interact(num_points):\n",
    "    torch.manual_seed(13)\n",
    "    train_x = torch.rand(num_points)\n",
    "    train_y = true_f(train_x)\n",
    "    pyro.clear_param_store()\n",
    "    gpc, svi = get_laplace_approx(train_x, train_y)\n",
    "\n",
    "    def train_model(num_steps):\n",
    "        train_svi(gpc, svi, num_steps)\n",
    "        plot_model()\n",
    "\n",
    "    def plot_model():\n",
    "        plot_gpc(gpc, train_x, train_y, test_x, test_y, color=\"r\")\n",
    "        IPython.display.clear_output(wait=True)\n",
    "        IPython.display.display(plt.gcf())\n",
    "        plt.close()\n",
    "        button = ipywidgets.Button(description=\"Do 100 more steps\")\n",
    "        button.on_click(lambda b: train_model(num_steps=100))\n",
    "        display(button)\n",
    "    \n",
    "    train_model(200)\n",
    "\n",
    "interact(svi_interact, num_points=ipywidgets.IntSlider(value=20, min=5, max=200, continuous_update=False));\n"
   ]
  },
  {
   "cell_type": "markdown",
   "metadata": {},
   "source": [
    "# Variational GP with Bernoulli Likelihood and Sigmoid Link function\n",
    "\n",
    "$$f \\sim \\mathcal{N}(\\mu, \\sigma^2), \\quad y \\sim \\mathcal{B} \\left(\\sigma(f) \\right),$$\n",
    "where $\\sigma$ is the sigmoid function."
   ]
  },
  {
   "cell_type": "code",
   "execution_count": null,
   "metadata": {
    "ExecuteTime": {
     "end_time": "2020-10-12T06:55:34.928746Z",
     "start_time": "2020-10-12T06:55:33.855298Z"
    },
    "collapsed": true,
    "scrolled": true
   },
   "outputs": [],
   "source": [
    "def get_variational_approx(train_x, train_y):\n",
    "    gpc = gp.models.VariationalGP(\n",
    "        train_x,\n",
    "        train_y,\n",
    "        kernel=gp.kernels.RBF(input_dim=1, lengthscale=torch.tensor([0.1]), variance=torch.tensor([1.])),\n",
    "        mean_function=gpytorch.means.ConstantMean(),\n",
    "        likelihood=gp.likelihoods.Binary(),\n",
    "        whiten=True,\n",
    "        jitter=1e-1\n",
    "    )\n",
    "\n",
    "    svi = SVI(gpc.model, gpc.guide, Adam({\"lr\": 1e-2}), loss=Trace_ELBO())\n",
    "    return gpc, svi \n",
    "\n",
    "def svi_interact(num_points):\n",
    "    torch.manual_seed(13)\n",
    "    train_x = torch.rand(num_points)\n",
    "    train_y = true_f(train_x)\n",
    "    \n",
    "    pyro.clear_param_store()\n",
    "    gpc, svi = get_variational_approx(train_x, train_y)\n",
    "\n",
    "    def train_model(num_steps):\n",
    "        train_svi(gpc, svi, num_steps)\n",
    "        plot_model()\n",
    "        \n",
    "    def plot_model():\n",
    "        plot_gpc(gpc, train_x, train_y, test_x, test_y, color=\"b\")\n",
    "        IPython.display.clear_output(wait=True)\n",
    "        IPython.display.display(plt.gcf())\n",
    "        plt.close()\n",
    "        button = ipywidgets.Button(description=\"Do 100 more steps\")\n",
    "        button.on_click(lambda b: train_model(num_steps=100))\n",
    "        display(button)\n",
    "\n",
    "    train_model(200)\n",
    "\n",
    "interact(svi_interact, num_points=ipywidgets.IntSlider(value=20, min=5, max=200, continuous_update=False));\n"
   ]
  },
  {
   "cell_type": "markdown",
   "metadata": {},
   "source": [
    "# Compare Posteriors"
   ]
  },
  {
   "cell_type": "code",
   "execution_count": null,
   "metadata": {
    "ExecuteTime": {
     "end_time": "2020-10-12T07:00:20.675371Z",
     "start_time": "2020-10-12T07:00:17.226936Z"
    },
    "scrolled": false
   },
   "outputs": [],
   "source": [
    "def svi_interact(num_points, num_steps):\n",
    "    torch.manual_seed(13)\n",
    "    train_x = torch.rand(num_points)\n",
    "    train_y = true_f(train_x)\n",
    "    \n",
    "    pyro.clear_param_store()\n",
    "    gpc, svi = get_laplace_approx(train_x, train_y)\n",
    "    train_svi(gpc, svi, num_steps)\n",
    "    plot_gpc(gpc, train_x, train_y, test_x, test_y, color=\"r\")\n",
    "    \n",
    "    pyro.clear_param_store()\n",
    "    gpc, svi = get_variational_approx(train_x, train_y)\n",
    "    train_svi(gpc, svi, num_steps)\n",
    "    plot_gpc(gpc, train_x, train_y, test_x, test_y, color=\"b\", plot_true=False, ncol=3)\n",
    "    \n",
    "    IPython.display.clear_output(wait=True)\n",
    "    IPython.display.display(plt.gcf())\n",
    "    plt.close()\n",
    "interact(\n",
    "    svi_interact, \n",
    "    num_points=ipywidgets.IntSlider(value=20, min=10, max=200, step=10, continuous_update=False),\n",
    "    num_steps=ipywidgets.IntSlider(value=500, min=200, max=2000, step=100, continuous_update=False)\n",
    ");\n"
   ]
  },
  {
   "cell_type": "code",
   "execution_count": null,
   "metadata": {
    "collapsed": true,
    "scrolled": true
   },
   "outputs": [],
   "source": []
  }
 ],
 "metadata": {
  "kernelspec": {
   "display_name": "Python 3",
   "language": "python",
   "name": "python3"
  },
  "language_info": {
   "codemirror_mode": {
    "name": "ipython",
    "version": 3
   },
   "file_extension": ".py",
   "mimetype": "text/x-python",
   "name": "python",
   "nbconvert_exporter": "python",
   "pygments_lexer": "ipython3",
   "version": "3.7.7"
  },
  "varInspector": {
   "cols": {
    "lenName": 16,
    "lenType": 16,
    "lenVar": 40
   },
   "kernels_config": {
    "python": {
     "delete_cmd_postfix": "",
     "delete_cmd_prefix": "del ",
     "library": "var_list.py",
     "varRefreshCmd": "print(var_dic_list())"
    },
    "r": {
     "delete_cmd_postfix": ") ",
     "delete_cmd_prefix": "rm(",
     "library": "var_list.r",
     "varRefreshCmd": "cat(var_dic_list()) "
    }
   },
   "types_to_exclude": [
    "module",
    "function",
    "builtin_function_or_method",
    "instance",
    "_Feature"
   ],
   "window_display": false
  }
 },
 "nbformat": 4,
 "nbformat_minor": 4
}
