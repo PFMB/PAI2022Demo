{
 "cells": [
  {
   "cell_type": "code",
   "execution_count": 1,
   "metadata": {
    "ExecuteTime": {
     "end_time": "2020-10-24T08:42:31.765733Z",
     "start_time": "2020-10-24T08:42:30.692629Z"
    }
   },
   "outputs": [],
   "source": [
    "from torch.distributions import MultivariateNormal\n",
    "import torch\n",
    "from sampling.samplers import SGLDSampler, MALASampler\n",
    "\n",
    "import numpy as np\n",
    "import matplotlib.pyplot as plt\n",
    "from matplotlib import rcParams\n",
    "import matplotlib as mpl\n",
    "\n",
    "import ipywidgets\n",
    "from ipywidgets import interact\n",
    "import IPython\n",
    "# If in your browser the figures are not nicely vizualized, change the following line.\n",
    "rcParams['font.size'] = 20\n",
    "rcParams['figure.figsize'] = (20, 8)\n",
    "\n",
    "import warnings\n",
    "warnings.filterwarnings('ignore')\n",
    "import seaborn as sns \n",
    "\n",
    "layout = ipywidgets.Layout(width='auto', height='40px')\n",
    "%load_ext autoreload\n",
    "%autoreload 2"
   ]
  },
  {
   "cell_type": "code",
   "execution_count": 2,
   "metadata": {
    "ExecuteTime": {
     "end_time": "2020-10-24T08:42:32.562066Z",
     "start_time": "2020-10-24T08:42:32.526403Z"
    }
   },
   "outputs": [],
   "source": [
    "from torch.distributions import Normal, Distribution\n",
    "class RosenbrockDistribution(Distribution):\n",
    "    r\"\"\"Implements Rosenbrock distribution\n",
    "    Includes unnormalized density and analytic sampler.\n",
    "    Based on https://arxiv.org/pdf/1903.09556.pdf\n",
    "    \"\"\"\n",
    "    def __init__(self, a=.2, b=1):\n",
    "        self.a = a\n",
    "        self.b = b\n",
    "\n",
    "    def log_prob(self, value):\n",
    "        log_p = -self.a * value[0] ** 2 - self.b * (value[1] - value[0] ** 2) ** 2\n",
    "        return log_p\n",
    "\n",
    "    def rsample(self, sample_shape=torch.Size()):\n",
    "        if len(sample_shape) > 0:\n",
    "            num_samples = sample_shape[0]\n",
    "            squeeze = False\n",
    "        else:\n",
    "            num_samples = 1\n",
    "            squeeze = True\n",
    "\n",
    "        x = torch.zeros([num_samples, 2])\n",
    "        x[:, 0] = Normal(0.0, 1 / (2 * self.a) ** 0.5).sample(sample_shape)\n",
    "        x[:, 1] = Normal(x[:, 0] ** 2, 1 / (2 * self.b) ** 0.5).sample()\n",
    "\n",
    "        if squeeze:\n",
    "            x = x.squeeze(0)\n",
    "        return x\n",
    "    \n",
    "def get_distribution(distribution):\n",
    "    mu = torch.tensor([0.0, 0.0])\n",
    "    if distribution == \"isotropic\":\n",
    "        cov = torch.tensor([[1.0, 0.0], [0.0, 1.0]]) \n",
    "        return MultivariateNormal(loc=mu, covariance_matrix=cov) \n",
    "    elif distribution == \"rotated\":\n",
    "        cov = torch.tensor([[1.3, 0.9], [0.9, 1.3]]) \n",
    "        return MultivariateNormal(loc=mu, covariance_matrix=cov)\n",
    "    elif distribution == \"anisotropic\":\n",
    "        cov = torch.tensor([[3.0, 0], [0, 0.1]])\n",
    "        return MultivariateNormal(loc=mu, covariance_matrix=cov)\n",
    "    elif distribution == \"rosenbrock\":\n",
    "        return RosenbrockDistribution() \n",
    "    "
   ]
  },
  {
   "cell_type": "markdown",
   "metadata": {},
   "source": [
    "## Sampler walk"
   ]
  },
  {
   "cell_type": "code",
   "execution_count": 3,
   "metadata": {
    "ExecuteTime": {
     "end_time": "2020-10-24T08:42:34.260635Z",
     "start_time": "2020-10-24T08:42:33.506191Z"
    }
   },
   "outputs": [
    {
     "data": {
      "application/vnd.jupyter.widget-view+json": {
       "model_id": "1bb5190c359242b0b1a6bb31a26625b4",
       "version_major": 2,
       "version_minor": 0
      },
      "text/plain": [
       "interactive(children=(Dropdown(description='distribution', index=3, options=('isotropic', 'rotated', 'anisotro…"
      ]
     },
     "metadata": {},
     "output_type": "display_data"
    }
   ],
   "source": [
    "def sampler_walk(distribution, sampler, preconditioner, lr, noise_free):\n",
    "    \n",
    "    x = torch.randn(2)\n",
    "    x.requires_grad = True \n",
    "    dist = get_distribution(distribution)\n",
    "    if sampler == \"mala\":\n",
    "        sampler = MALASampler(\n",
    "            x, dist.log_prob, preconditioner, noise_free=noise_free, lr=lr, lr_final=lr\n",
    "        )\n",
    "    else:\n",
    "        sampler = SGLDSampler(\n",
    "            x, dist.log_prob, preconditioner, noise_free=noise_free, lr=lr, lr_final=lr\n",
    "        )\n",
    "\n",
    "    samples = []\n",
    "    alphas = []\n",
    "    proposal = [0] \n",
    "    true_samples = dist.rsample((torch.tensor(500),)).cpu().numpy()\n",
    "    \n",
    "    def plot_samples():\n",
    "        IPython.display.clear_output(wait=True)\n",
    "        plt.close()\n",
    "        \n",
    "        est_samples = np.array(samples)\n",
    "        plt.plot(est_samples[:, 0], est_samples[:, 1], linestyle=\"solid\", linewidth=0.1, color=\"r\", label=\"Walk\")\n",
    "        plt.scatter(est_samples[:, 0], est_samples[:, 1], s=10., color=\"r\", label=\"Generated Samples\")\n",
    "        plt.scatter(est_samples[-1, 0], est_samples[-1, 1], s=100., color=\"k\", label=f\"Last Sample\")\n",
    "        plt.scatter(proposal[0][0], proposal[0][1], s=100., color=\"b\",label=f\"Proposal  (alpha = {alphas[-1]:.2f})\")\n",
    "        plt.scatter(true_samples[:, 0], true_samples[:, 1], s=10., color=\"g\", label=\"True Samples\")\n",
    "    \n",
    "        plt.legend(loc=\"upper right\")\n",
    "        plt.xlabel(r\"$x_1$\")\n",
    "        plt.ylabel(r\"$x_2$\")\n",
    "        plt.xlim([-6, 6])\n",
    "        if distribution == \"rosenbrock\":\n",
    "            plt.ylim([-4, 25])\n",
    "        else:\n",
    "            plt.ylim([-6, 6])\n",
    "        \n",
    "        if len(alphas) > 100:\n",
    "            acc_prob = np.mean(alphas[:-100])\n",
    "        else:\n",
    "            acc_prob = np.mean(alphas)\n",
    "        plt.title(f\"Sampler Walk: Running Avg Acceptance Prob. {acc_prob:.2f}\")\n",
    "\n",
    "        plt.show()\n",
    "\n",
    "        button = ipywidgets.Button(description=\"Sample New Point\")\n",
    "        button.on_click(lambda b: query_new_point())\n",
    "        display(button)\n",
    "        \n",
    "        button2 = ipywidgets.Button(description=\"Sample 100 Points\")\n",
    "        button2.on_click(lambda b: query_new_point(n=100))\n",
    "        display(button2)\n",
    "        \n",
    "        button3 = ipywidgets.Button(description=\"Sample 1000 Points\")\n",
    "        button3.on_click(lambda b: query_new_point(n=1000))\n",
    "        display(button3)\n",
    "\n",
    "    def query_new_point(n=1):\n",
    "        for _ in range(n):\n",
    "            sample, loss, alpha, proposal_ = sampler.sample_next()\n",
    "            samples.append(sample.detach().numpy())\n",
    "            alphas.append(alpha)\n",
    "            proposal[-1] = proposal_\n",
    "        plot_samples()\n",
    "        \n",
    "\n",
    "    query_new_point()\n",
    "\n",
    "interact(\n",
    "    sampler_walk,\n",
    "    distribution = ipywidgets.Dropdown(\n",
    "        value=\"rosenbrock\", options=[\"isotropic\", \"rotated\", \"anisotropic\", \"rosenbrock\"]),\n",
    "    sampler = [\"mala\", \"sgld\"],\n",
    "    preconditioner=ipywidgets.Dropdown(\n",
    "        value=True, options=[True, False], style={'description_width': 'initial'}),\n",
    "    lr = ipywidgets.FloatLogSlider(value=0.3, min=-2, max=1, step=0.01, continuous_update=False),\n",
    "    noise_free=[False, True]\n",
    ");\n"
   ]
  },
  {
   "cell_type": "markdown",
   "metadata": {},
   "source": [
    "## Logistic Regression"
   ]
  },
  {
   "cell_type": "markdown",
   "metadata": {},
   "source": [
    "# Generate data"
   ]
  },
  {
   "cell_type": "code",
   "execution_count": 4,
   "metadata": {
    "ExecuteTime": {
     "end_time": "2020-10-24T08:43:25.664848Z",
     "start_time": "2020-10-24T08:43:25.290713Z"
    }
   },
   "outputs": [
    {
     "data": {
      "image/png": "[encoded data removed]",
      "text/plain": [
       "<Figure size 2000x800 with 1 Axes>"
      ]
     },
     "metadata": {},
     "output_type": "display_data"
    }
   ],
   "source": [
    "torch.manual_seed(0)\n",
    "scale = 0.6\n",
    "X_plus = torch.randn(32, 2) * scale + torch.tensor([-1, -1])\n",
    "X_minus = torch.randn(32, 2) * scale + torch.tensor([1, 1])\n",
    "plt.scatter(X_plus[:, 0].detach(), X_plus[:, 1].detach(), s=50., color='r', label=\"Positives\")\n",
    "plt.scatter(X_minus[:, 0].detach(), X_minus[:, 1].detach(), s=50., color='b', label=\"Negatives\")\n",
    "plt.xlabel(\"$x_0$\")\n",
    "plt.ylabel(\"$x_1$\")\n",
    "plt.legend(loc=\"lower right\")\n",
    "plt.show()"
   ]
  },
  {
   "cell_type": "markdown",
   "metadata": {},
   "source": [
    "# Train with different Samplers!"
   ]
  },
  {
   "cell_type": "code",
   "execution_count": null,
   "metadata": {
    "ExecuteTime": {
     "end_time": "2020-10-24T08:43:34.753855Z",
     "start_time": "2020-10-24T08:43:27.179563Z"
    }
   },
   "outputs": [
    {
     "name": "stderr",
     "output_type": "stream",
     "text": [
      " 39%|█████████████████████████████████████████████████████████████████████████████████████████▋                                                                                                                                            | 1170/3000 [00:01<00:01, 1148.82it/s]"
     ]
    }
   ],
   "source": [
    "palette = sns.color_palette(n_colors=3)\n",
    "\n",
    "num_iter = 3000\n",
    "lr = 1e-2\n",
    "prior_strength = 0.1\n",
    "\n",
    "def log_prob(w):\n",
    "    y_plus = w[2] + X_plus @ w[:2]\n",
    "    y_minus = w[2] + X_minus @ w[:2]\n",
    "    pos_loss = torch.log(1 / (1 + torch.exp(y_plus))).sum()\n",
    "    neg_loss = torch.log(1 / (1 + torch.exp(-y_minus))).sum()\n",
    "    prior = prior_strength * (w ** 2).sum()\n",
    "    return pos_loss +neg_loss  + neg_loss\n",
    "\n",
    "w0 = torch.randn(3)\n",
    "w_mala = w0.clone()\n",
    "w_mala.requires_grad = True\n",
    "mala = MALASampler(\n",
    "       w_mala, log_prob, False, noise_free=False, lr=lr, lr_final=lr, max_iter=num_iter\n",
    "    )\n",
    "\n",
    "w_sgld = w0.clone()\n",
    "w_sgld.requires_grad = True\n",
    "sgld = SGLDSampler(\n",
    "       w_sgld, log_prob, False, noise_free=False, lr=lr, lr_final=lr, max_iter=num_iter\n",
    "    )\n",
    "w_sgd = w0.clone()\n",
    "w_sgd.requires_grad = True\n",
    "sgd = SGLDSampler(\n",
    "       w_sgd, log_prob, False, noise_free=True, lr=lr, lr_final=lr, max_iter=num_iter\n",
    "    )\n",
    "\n",
    "mala_returns = mala.sample(num_iter, subsampling=1).detach().numpy()\n",
    "sgld_returns = sgld.sample(num_iter, subsampling=1).detach().numpy()\n",
    "sgd_returns = sgd.sample(num_iter, subsampling=1).detach().numpy()\n",
    "mala_samples  = np.array(mala_returns[0])\n",
    "sgld_samples = np.array(sgld_returns[0])\n",
    "sgd_samples = np.array(sgd_returns[0])\n",
    "\n",
    "plt.plot(mala_returns[1], label=\"MALA\", color=palette[0], linewidth=2)\n",
    "plt.plot(sgld_returns[1], label=\"SGLD\", color=palette[1], linewidth=2)\n",
    "plt.plot(sgd_returns[1], label=\"SGD\", color=palette[2], linewidth=2)\n",
    "\n",
    "plt.xlabel(\"num_iter\")\n",
    "plt.ylabel(\"Negative LL\")\n",
    "plt.legend(loc=\"best\")\n",
    "plt.show()"
   ]
  },
  {
   "cell_type": "markdown",
   "metadata": {
    "ExecuteTime": {
     "end_time": "2020-10-22T16:43:04.916711Z",
     "start_time": "2020-10-22T16:43:04.868713Z"
    }
   },
   "source": [
    "# See posterior distribution over the last (N) samples"
   ]
  },
  {
   "cell_type": "code",
   "execution_count": null,
   "metadata": {
    "ExecuteTime": {
     "end_time": "2020-10-24T08:43:40.289832Z",
     "start_time": "2020-10-24T08:43:39.126165Z"
    }
   },
   "outputs": [],
   "source": [
    "x = np.linspace(-2, 2); \n",
    "\n",
    "def decision_boundary(x, w):\n",
    "    w = w.detach().numpy()\n",
    "    y = -w[2] / w[1] - w[0] / w[1] * x\n",
    "    return y\n",
    "\n",
    "def get_bounds(x, w):\n",
    "    c = -w[:, 2] / w[:, 1]\n",
    "    m = -w[:, 0] / w[:, 1] \n",
    "    y = c[:, np.newaxis] + np.outer(m, x) \n",
    "    \n",
    "    mean = np.mean(y, 0)\n",
    "    std = np.std(y, 0)\n",
    "    \n",
    "    return mean, mean - std, mean + std \n",
    "\n",
    "\n",
    "def number_of_samples(num):\n",
    "    fig, axes = plt.subplots(ncols=3, nrows=1)\n",
    "    for i in range(3):\n",
    "        axes[i].hist(mala_samples[-num:, i], color=palette[0], alpha=0.5, bins=10, label=\"MALA\", density=True)\n",
    "        axes[i].hist(sgld_samples[-num:, i], color=palette[1], alpha=0.5, bins=10, label=\"SGLD\", density=True)\n",
    "        axes[i].hist(sgd_samples[-num:, i], color=palette[2], alpha=0.5, bins=10, label=\"SGD\", density=True)\n",
    "\n",
    "        axes[i].set_title(f\"$w_{i}$\")\n",
    "    axes[0].legend(loc=\"best\")\n",
    "    \n",
    "    plt.show()\n",
    "\n",
    "    mala_mean, mala_low, mala_high = get_bounds(x, mala_samples[-num:])\n",
    "    sgld_mean, sgld_low, sgld_high = get_bounds(x, sgld_samples[-num:])\n",
    "    sgd_mean, sgd_low, sgd_high = get_bounds(x, sgd_samples[-num:])\n",
    "\n",
    "    plt.plot(x, mala_mean, color=palette[0], label=\"MALA\", linewidth=5)\n",
    "    plt.fill_between(x, mala_low, mala_high, color=palette[0], alpha=0.3)\n",
    "\n",
    "    plt.plot(x, sgld_mean, color=palette[1], label=\"SGLD\", linewidth=5)\n",
    "    plt.fill_between(x, sgld_low, sgld_high, color=palette[1], alpha=0.3)\n",
    "\n",
    "    plt.plot(x, sgd_mean, color=palette[2], label=\"SGD\", linewidth=5)\n",
    "    plt.fill_between(x, sgd_low, sgd_high, color=palette[2], alpha=0.3)\n",
    "\n",
    "    plt.scatter(X_plus[:, 0].detach(), X_plus[:, 1].detach(), s=20., color='r', label=\"Positives\")\n",
    "    plt.scatter(X_minus[:, 0].detach(), X_minus[:, 1].detach(), s=20., color='b', label=\"Negatives\")\n",
    "    plt.legend(loc=\"best\");\n",
    "    plt.xlabel(\"$x_0$\")\n",
    "    plt.ylabel(\"$x_1$\")\n",
    "    plt.xlim([-2, 2])\n",
    "    plt.ylim([-2, 2])\n",
    "    plt.title(\"Decision Boundary\");\n",
    "    plt.show()\n",
    "    \n",
    "    \n",
    "interact(number_of_samples, num=ipywidgets.IntSlider(value=500, min=50, max=num_iter, step=50, continuous_update=False));"
   ]
  },
  {
   "cell_type": "code",
   "execution_count": null,
   "metadata": {
    "ExecuteTime": {
     "end_time": "2020-10-24T08:44:35.238058Z",
     "start_time": "2020-10-24T08:44:14.228057Z"
    }
   },
   "outputs": [],
   "source": [
    "def plot_classification_boundaries(w, fig=None, n_points=100):\n",
    "    min_x = -3\n",
    "    max_x = 3\n",
    "    min_y = -3\n",
    "    max_y = 3\n",
    "    [xg, yg] = np.meshgrid(np.linspace(min_x, max_x, n_points),\n",
    "                           np.linspace(min_y, max_y, n_points))\n",
    "\n",
    "    x1g = np.concatenate((xg.reshape([-1, 1]),\n",
    "                          yg.reshape([-1, 1]),\n",
    "                          np.ones_like(xg).reshape([-1, 1])),\n",
    "                         axis=1)\n",
    "\n",
    "    Zg = 1 / (1 + np.exp(x1g @ w))\n",
    "    zg = np.reshape(Zg, newshape=xg.shape)\n",
    "    cmap = mpl.cm.jet\n",
    "    norm = mpl.colors.Normalize(vmin=0, vmax=1)\n",
    "\n",
    "    contour = plt.contourf(xg, yg, zg, cmap=cmap, alpha=0.3, vmin=0, vmax=1, levels=5)\n",
    "    cb = plt.colorbar(contour)\n",
    "    plt.scatter(X_plus[:, 0].detach(), X_plus[:, 1].detach(), s=20., color='r', label=\"Positives\")\n",
    "    plt.scatter(X_minus[:, 0].detach(), X_minus[:, 1].detach(), s=20., color='b', label=\"Negatives\")\n",
    "    plt.xlabel(\"$x_0$\")\n",
    "    plt.ylabel(\"$x_1$\")\n",
    "    plt.xlim(-2, 2)\n",
    "    plt.ylim(-2, 2)\n",
    "\n",
    "#     cb1 = mpl.colorbar.ColorbarBase(plt.gca(), cmap=cmap, norm=norm)\n",
    "\n",
    "    plt.title(\"Positive Probability\")\n",
    "    \n",
    "def progress(sampler):\n",
    "    if sampler == \"mala\":\n",
    "        samples = mala_samples\n",
    "    if sampler == \"sgld\":\n",
    "        samples = sgld_samples\n",
    "    if sampler == \"sgd\":\n",
    "        samples = sgd_samples\n",
    "    k = num_iter // 50\n",
    "    for sample in samples[::k]:\n",
    "        try:\n",
    "            IPython.display.clear_output(wait=True)\n",
    "            plt.close()\n",
    "            plot_classification_boundaries(sample)\n",
    "            plt.show()\n",
    "        except KeyboardInterrupt:\n",
    "            return\n",
    "interact(progress, sampler=[\"mala\", \"sgld\", \"sgd\"]);"
   ]
  },
  {
   "cell_type": "code",
   "execution_count": null,
   "metadata": {},
   "outputs": [],
   "source": []
  }
 ],
 "metadata": {
  "kernelspec": {
   "display_name": "Python 3 (ipykernel)",
   "language": "python",
   "name": "python3"
  },
  "language_info": {
   "codemirror_mode": {
    "name": "ipython",
    "version": 3
   },
   "file_extension": ".py",
   "mimetype": "text/x-python",
   "name": "python",
   "nbconvert_exporter": "python",
   "pygments_lexer": "ipython3",
   "version": "3.7.13"
  },
  "varInspector": {
   "cols": {
    "lenName": 16,
    "lenType": 16,
    "lenVar": 40
   },
   "kernels_config": {
    "python": {
     "delete_cmd_postfix": "",
     "delete_cmd_prefix": "del ",
     "library": "var_list.py",
     "varRefreshCmd": "print(var_dic_list())"
    },
    "r": {
     "delete_cmd_postfix": ") ",
     "delete_cmd_prefix": "rm(",
     "library": "var_list.r",
     "varRefreshCmd": "cat(var_dic_list()) "
    }
   },
   "types_to_exclude": [
    "module",
    "function",
    "builtin_function_or_method",
    "instance",
    "_Feature"
   ],
   "window_display": false
  }
 },
 "nbformat": 4,
 "nbformat_minor": 4
}
