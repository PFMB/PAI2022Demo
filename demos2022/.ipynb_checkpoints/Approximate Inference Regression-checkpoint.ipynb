{
 "cells": [
  {
   "cell_type": "code",
   "execution_count": null,
   "metadata": {
    "ExecuteTime": {
     "end_time": "2020-07-08T16:05:43.075921Z",
     "start_time": "2020-07-08T16:05:41.668432Z"
    }
   },
   "outputs": [],
   "source": [
    "import numpy as np \n",
    "import scipy.stats as stats\n",
    "import matplotlib.pyplot as plt \n",
    "from matplotlib import rcParams\n",
    "import pandas as pd \n",
    "import seaborn as sns\n",
    "from tqdm.notebook import tqdm\n",
    "\n",
    "import ipywidgets\n",
    "from ipywidgets import interact\n",
    "import IPython\n",
    "# If in your browser the figures are not nicely vizualized, change the following line. \n",
    "rcParams['font.size'] = 12\n",
    "\n",
    "import warnings\n",
    "warnings.filterwarnings('ignore')\n",
    "\n",
    "import pyro.optim \n",
    "from pyro.infer import Predictive, SVI, Trace_ELBO, HMC, MCMC, NUTS, TraceEnum_ELBO, config_enumerate, infer_discrete\n",
    "from pyro.infer.autoguide import AutoDelta, AutoDiagonalNormal\n",
    "import pyro.distributions as dist\n",
    "\n",
    "import torch \n",
    "from torch import nn\n",
    "from torch.distributions import MultivariateNormal, constraints\n",
    "\n",
    "\n",
    "prior_c, svi_c, mcmc_c = sns.color_palette()[:3]\n",
    "\n"
   ]
  },
  {
   "cell_type": "markdown",
   "metadata": {},
   "source": [
    "# Bayesian Regression with Pyro\n",
    "\n",
    "We try to learn a model $y \\sim \\mathcal{N}(b + w x, \\sigma^2)$"
   ]
  },
  {
   "cell_type": "code",
   "execution_count": null,
   "metadata": {
    "ExecuteTime": {
     "end_time": "2020-07-08T16:05:44.868066Z",
     "start_time": "2020-07-08T16:05:44.857582Z"
    }
   },
   "outputs": [],
   "source": [
    "def model(x, y=None):\n",
    "    b = pyro.sample(\"b\", dist.Normal(0., 10.))      # Bias Coefficient\n",
    "    w = pyro.sample(\"w\", dist.Normal(0., 1.))       # Linear Coefficient\n",
    "    sigma = pyro.sample(\"sigma\", dist.Uniform(0, 10.)) \n",
    "    mean = b + w * x\n",
    "    with pyro.plate(\"data\", len(x)):\n",
    "#         pyro.sample(\"obs\", dist.Uniform(mean - sigma, mean + sigma), obs=y)\n",
    "        pyro.sample(\"obs\", dist.Normal(mean, sigma), obs=y)\n",
    "\n",
    "        \n",
    "def guide(x, y):\n",
    "    # Define parameters.\n",
    "    b_loc = pyro.param('b_loc', torch.tensor(0.))\n",
    "    b_scale = pyro.param('b_scale', torch.tensor(1.), constraint=constraints.positive)\n",
    "    \n",
    "    w_loc = pyro.param('weights_loc',  torch.randn(1))\n",
    "    w_scale = pyro.param('weights_scale', torch.ones(1), constraint=constraints.positive)\n",
    "\n",
    "    sigma_loc = pyro.param('sigma_loc', torch.tensor(.5), constraint=constraints.positive)\n",
    "\n",
    "    # Generate samples\n",
    "    b = pyro.sample(\"b\", dist.Normal(b_loc, b_scale))\n",
    "    w = pyro.sample(\"w\", dist.Normal(w_loc, w_scale))\n",
    "#     sigma = pyro.sample(\"sigma\", dist.Uniform(0, sigma_loc))\n",
    "    sigma = pyro.sample(\"sigma\", dist.Normal(sigma_loc, torch.tensor(0.05)))\n",
    "    mean = b + w * x \n",
    "    \n",
    "def summary(samples):\n",
    "    site_stats = {}\n",
    "    for site_name, values in samples.items():\n",
    "        marginal_site = pd.DataFrame(values)\n",
    "        describe = marginal_site.describe(percentiles=[.05, 0.25, 0.5, 0.75, 0.95]).transpose()\n",
    "        site_stats[site_name] = describe[[\"mean\", \"std\", \"5%\", \"25%\", \"50%\", \"75%\", \"95%\"]]\n",
    "    return site_stats"
   ]
  },
  {
   "cell_type": "markdown",
   "metadata": {},
   "source": [
    "## Generate Data and plot the Prior"
   ]
  },
  {
   "cell_type": "code",
   "execution_count": null,
   "metadata": {
    "ExecuteTime": {
     "end_time": "2020-07-08T16:05:46.894592Z",
     "start_time": "2020-07-08T16:05:46.409597Z"
    }
   },
   "outputs": [],
   "source": [
    "num_points = 20\n",
    "num_samples = 1000\n",
    "x = torch.randn(num_points)\n",
    "test_x = torch.linspace(-3, 3, 1000)\n",
    "\n",
    "b = dist.Normal(0, 10.).sample()\n",
    "w = dist.Normal(0., 1.).sample()\n",
    "sigma = dist.Uniform(0, 10.).sample()\n",
    "mean = b + x * w \n",
    "y = dist.Uniform(mean - sigma, mean + sigma).sample()\n",
    "\n",
    "# Prior samples\n",
    "num_samples = 100\n",
    "prior_predictive = Predictive(model, {}, num_samples=num_samples)\n",
    "prior_samples = {k: v.reshape(num_samples).detach().cpu().numpy()\n",
    "                 for k, v in prior_predictive(x).items()\n",
    "                 if k != \"obs\"}\n",
    "\n",
    "# Prior samples\n",
    "for name, values in summary(prior_samples).items():\n",
    "    print(\"Site: {}\".format(name))\n",
    "    print(values, \"\\n\")\n",
    "    \n",
    "\n",
    "prior_predictive_model = prior_predictive(test_x)[\"obs\"].detach().cpu().numpy()\n",
    "mean = prior_predictive_model.mean(0)\n",
    "std = prior_predictive_model.std(0)\n",
    "\n",
    "with torch.no_grad():\n",
    "    plt.figure(figsize=(10, 4), dpi=100).set_facecolor('white')\n",
    "    plt.plot(x, y, 'k*', label='Samples')\n",
    "    plt.plot(test_x, b + test_x * w, 'k-', label='Sampled Model')\n",
    "    plt.plot(test_x, mean, 'b-', color=prior_c, label='Prior MAP')\n",
    "    plt.fill_between(test_x, mean - std, mean + std, alpha = 0.3, color=prior_c, label='Prior Predictive distribution')\n",
    "    \n",
    "    plt.legend(loc='best')\n",
    "    plt.xlabel('x')\n",
    "    plt.ylabel('y')\n",
    "    plt.show();\n",
    "    \n"
   ]
  },
  {
   "cell_type": "markdown",
   "metadata": {},
   "source": [
    "## Stochastic Variational Inference"
   ]
  },
  {
   "cell_type": "code",
   "execution_count": null,
   "metadata": {
    "ExecuteTime": {
     "end_time": "2020-07-08T16:07:00.094917Z",
     "start_time": "2020-07-08T16:06:51.502238Z"
    }
   },
   "outputs": [],
   "source": [
    "svi = SVI(model,\n",
    "          guide,\n",
    "          pyro.optim.Adam({\"lr\": 1e-2}),\n",
    "          loss=Trace_ELBO())\n",
    "pyro.clear_param_store()\n",
    "num_iters = 3000\n",
    "elbo = []\n",
    "for i in tqdm(range(num_iters)):\n",
    "    elbo.append(svi.step(x, y))\n",
    "\n",
    "plt.plot(elbo)\n",
    "\n",
    "plt.xlabel('Num Iter')\n",
    "plt.ylabel('ELBO')\n",
    "plt.show()\n",
    "\n",
    "\n",
    "svi_predictive = Predictive(model, guide=guide, num_samples=num_samples)\n",
    "svi_samples = {k: v.reshape(num_samples).detach().cpu().numpy()\n",
    "               for k, v in svi_predictive(x, y).items()\n",
    "               if k != \"obs\"}\n",
    "\n",
    "for name, values in summary(svi_samples).items():\n",
    "    print(\"Site: {}\".format(name))\n",
    "    print(values, \"\\n\")\n",
    "\n",
    "svi_predictive_model = svi_predictive(test_x, torch.randn(1000))[\"obs\"].detach().cpu().numpy()\n",
    "mean = svi_predictive_model.mean(0)\n",
    "std = svi_predictive_model.std(0)\n",
    "\n",
    "svi_predictive = Predictive(model, guide=guide, num_samples=num_samples)\n",
    "svi_predictive_model = svi_predictive.get_samples(test_x, None)[\"obs\"]\n",
    "\n",
    "with torch.no_grad():\n",
    "    mean = svi_predictive_model.mean(0)\n",
    "    std = svi_predictive_model.std(0)\n",
    "    plt.figure(figsize=(10, 4), dpi=100).set_facecolor('white')\n",
    "    plt.plot(x, y, 'k*', label='Samples')\n",
    "    plt.plot(test_x, b + test_x * w, 'k-', label='Sampled Model')\n",
    "    plt.plot(test_x, mean, color=svi_c, label='SVI MAP')\n",
    "    plt.fill_between(test_x, mean - 3 * std, mean + 3 * std, alpha = 0.3, color=svi_c, label='SVI Predictive distribution')\n",
    "    \n",
    "    plt.legend(loc='best')\n",
    "    plt.xlabel('x')\n",
    "    plt.ylabel('y')\n",
    "    plt.show();"
   ]
  },
  {
   "cell_type": "markdown",
   "metadata": {},
   "source": [
    "## Markov Chain Monte Carlo (Hamiltonian MC)"
   ]
  },
  {
   "cell_type": "code",
   "execution_count": null,
   "metadata": {
    "ExecuteTime": {
     "end_time": "2020-07-08T16:07:17.613993Z",
     "start_time": "2020-07-08T16:07:03.481732Z"
    }
   },
   "outputs": [],
   "source": [
    "kernel = NUTS(model)  # HMC\n",
    "# kernel = HMC(model, step_size=0.0855, num_steps=4)\n",
    "\n",
    "mcmc = MCMC(kernel, num_samples=1000, warmup_steps=200)\n",
    "mcmc.run(x, y)\n",
    "\n",
    "hmc_samples = {k: v.detach().cpu().numpy() for k, v in mcmc.get_samples().items()}\n",
    "\n",
    "for name, values in summary(hmc_samples).items():\n",
    "    print(\"Site: {}\".format(name))\n",
    "    print(values, \"\\n\")\n",
    "    \n",
    "    \n",
    "mcmc_predictive_samples = Predictive(model, posterior_samples=mcmc.get_samples())(test_x, None)[\"obs\"]\n",
    "\n",
    "with torch.no_grad():\n",
    "    mean = mcmc_predictive_samples.mean(0)\n",
    "    std = mcmc_predictive_samples.std(0)\n",
    "    plt.figure(figsize=(10, 4), dpi=100).set_facecolor('white')\n",
    "    plt.plot(x, y, 'k*', label='Samples')\n",
    "    plt.plot(test_x, b + test_x * w, 'k-', label='Sampled Model')\n",
    "    plt.plot(test_x, mean, color=mcmc_c, label='MCMC MAP')\n",
    "    plt.fill_between(test_x, mean - 3 * std, mean + 3 * std, alpha = 0.3, color=mcmc_c, label='MCMC Predictive distribution')\n",
    "    \n",
    "    plt.legend(loc='best')\n",
    "    plt.xlabel('x')\n",
    "    plt.ylabel('y')\n",
    "    plt.show();\n"
   ]
  },
  {
   "cell_type": "markdown",
   "metadata": {},
   "source": [
    "# Compare distributions"
   ]
  },
  {
   "cell_type": "code",
   "execution_count": null,
   "metadata": {
    "ExecuteTime": {
     "end_time": "2020-07-08T16:07:21.764918Z",
     "start_time": "2020-07-08T16:07:21.128930Z"
    }
   },
   "outputs": [],
   "source": [
    "sites = [\"b\", \"w\", \"sigma\"]\n",
    "values = {\"b\": b, \"w\": w, \"sigma\": sigma}\n",
    "\n",
    "fig, axs = plt.subplots(nrows=1, ncols=3, figsize=(16, 4))\n",
    "fig.suptitle(\"Marginal Posterior density - Regression Coefficients\", fontsize=16)\n",
    "for i, ax in enumerate(axs.reshape(-1)):\n",
    "    site = sites[i]\n",
    "    sns.distplot(prior_samples[site], ax=ax, label=\"Prior\", color=prior_c)\n",
    "    sns.distplot(svi_samples[site], ax=ax, label=\"SVI\", color=svi_c)\n",
    "    sns.distplot(hmc_samples[site], ax=ax, label=\"HMC\", color=mcmc_c)\n",
    "    ax.axvline(x=values[site], color='r', linestyle='dashed', label='True param')\n",
    "    ax.set_title(site)\n",
    "handles, labels = ax.get_legend_handles_labels()\n",
    "fig.legend(handles, labels, loc='upper right');\n"
   ]
  }
 ],
 "metadata": {
  "kernelspec": {
   "display_name": "Python 3 (ipykernel)",
   "language": "python",
   "name": "python3"
  },
  "language_info": {
   "codemirror_mode": {
    "name": "ipython",
    "version": 3
   },
   "file_extension": ".py",
   "mimetype": "text/x-python",
   "name": "python",
   "nbconvert_exporter": "python",
   "pygments_lexer": "ipython3",
   "version": "3.7.13"
  },
  "varInspector": {
   "cols": {
    "lenName": 16,
    "lenType": 16,
    "lenVar": 40
   },
   "kernels_config": {
    "python": {
     "delete_cmd_postfix": "",
     "delete_cmd_prefix": "del ",
     "library": "var_list.py",
     "varRefreshCmd": "print(var_dic_list())"
    },
    "r": {
     "delete_cmd_postfix": ") ",
     "delete_cmd_prefix": "rm(",
     "library": "var_list.r",
     "varRefreshCmd": "cat(var_dic_list()) "
    }
   },
   "types_to_exclude": [
    "module",
    "function",
    "builtin_function_or_method",
    "instance",
    "_Feature"
   ],
   "window_display": false
  }
 },
 "nbformat": 4,
 "nbformat_minor": 4
}
